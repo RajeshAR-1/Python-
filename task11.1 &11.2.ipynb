{
 "cells": [
  {
   "cell_type": "code",
   "execution_count": null,
   "metadata": {},
   "outputs": [],
   "source": [
    "#TASK 11.1"
   ]
  },
  {
   "cell_type": "code",
   "execution_count": 1,
   "metadata": {},
   "outputs": [
    {
     "name": "stdout",
     "output_type": "stream",
     "text": [
      "9\n"
     ]
    }
   ],
   "source": [
    "def my_func():            #Exp1\n",
    "  return 6+3\n",
    "print(my_func())"
   ]
  },
  {
   "cell_type": "code",
   "execution_count": 2,
   "metadata": {},
   "outputs": [
    {
     "name": "stdout",
     "output_type": "stream",
     "text": [
      "8\n"
     ]
    }
   ],
   "source": [
    "def my_func():           #Exp2\n",
    "  return 10-2\n",
    "print(my_func())"
   ]
  },
  {
   "cell_type": "code",
   "execution_count": null,
   "metadata": {},
   "outputs": [],
   "source": [
    "#TASK 11.2"
   ]
  },
  {
   "cell_type": "code",
   "execution_count": null,
   "metadata": {},
   "outputs": [],
   "source": []
  },
  {
   "cell_type": "code",
   "execution_count": 3,
   "metadata": {},
   "outputs": [
    {
     "name": "stdout",
     "output_type": "stream",
     "text": [
      "1.Addition\n",
      "2.Subtration\n",
      "3.Multiplication\n",
      "4.Division\n",
      "Choose an Operation: 2\n",
      "Enter the first No: 9\n",
      "Enter the Second No: 6\n",
      "3\n"
     ]
    }
   ],
   "source": [
    "print(\"1.Addition\")\n",
    "print(\"2.Subtration\")\n",
    "print(\"3.Multiplication\")\n",
    "print(\"4.Division\")\n",
    "\n",
    "ch=int(input(\"Choose an Operation: \"))\n",
    "num1= int(input(\"Enter the first No: \"))\n",
    "num2= int(input(\"Enter the Second No: \"))\n",
    "if(ch==1):\n",
    "    def add():\n",
    "        num=num1+num2\n",
    "        print(num)\n",
    "    add()\n",
    "if(ch==2):\n",
    "    def diff():\n",
    "        num=num1-num2\n",
    "        print(num)\n",
    "    diff()\n",
    "if(ch==3):\n",
    "    def prod():\n",
    "        num=num1*num2\n",
    "        print(num)\n",
    "    prod()\n",
    "if(ch==4):\n",
    "    def quot():\n",
    "        num=num1/num2\n",
    "        print(num)\n",
    "    quot()\n",
    "\n"
   ]
  },
  {
   "cell_type": "code",
   "execution_count": null,
   "metadata": {},
   "outputs": [],
   "source": []
  },
  {
   "cell_type": "code",
   "execution_count": null,
   "metadata": {},
   "outputs": [],
   "source": []
  },
  {
   "cell_type": "code",
   "execution_count": null,
   "metadata": {},
   "outputs": [],
   "source": []
  },
  {
   "cell_type": "code",
   "execution_count": null,
   "metadata": {},
   "outputs": [],
   "source": []
  }
 ],
 "metadata": {
  "kernelspec": {
   "display_name": "Python 3",
   "language": "python",
   "name": "python3"
  },
  "language_info": {
   "codemirror_mode": {
    "name": "ipython",
    "version": 3
   },
   "file_extension": ".py",
   "mimetype": "text/x-python",
   "name": "python",
   "nbconvert_exporter": "python",
   "pygments_lexer": "ipython3",
   "version": "3.8.5"
  }
 },
 "nbformat": 4,
 "nbformat_minor": 4
}
