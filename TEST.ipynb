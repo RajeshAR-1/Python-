{
 "cells": [
  {
   "cell_type": "code",
   "execution_count": null,
   "metadata": {},
   "outputs": [],
   "source": [
    "#TEST"
   ]
  },
  {
   "cell_type": "code",
   "execution_count": null,
   "metadata": {},
   "outputs": [],
   "source": [
    "# 1). Write a python function to accept user inputs, store it in a list and compute the \n",
    "#     highest number  out of it. User can enter as many numbers as he/she wants. \n",
    "#       Take care of following things: \n",
    "#       1. Input must be entered by user \n",
    "#       2. Exception handling \n",
    "#       3. Null values \n",
    "#       4. Errors \n",
    "#       5. Datatypes \n",
    "#     Output of the function must be a number. \n",
    "#     It should accept correct values and for incorrect values, an error message must be \n",
    "#     displayed to the user.\n"
   ]
  },
  {
   "cell_type": "code",
   "execution_count": null,
   "metadata": {},
   "outputs": [],
   "source": []
  },
  {
   "cell_type": "code",
   "execution_count": 8,
   "metadata": {},
   "outputs": [
    {
     "name": "stdout",
     "output_type": "stream",
     "text": [
      "Enter the Numbers of elements:3\n",
      "5\n",
      "55\n",
      "555\n",
      "Biggest number in the list is:  555\n"
     ]
    }
   ],
   "source": [
    "list=[]\n",
    "try:\n",
    "    n = int(input(\"Enter the Numbers of elements:\"))\n",
    "    \n",
    "    while True:\n",
    "        try:\n",
    "            n = int(n)\n",
    "            break\n",
    "            \n",
    "        except ZeroValueError:\n",
    "            print(\"No valid integer! Please try again ...\")\n",
    "            \n",
    "    for i in range(0,n):\n",
    "        element = int(input())\n",
    "        list.append(element)\n",
    "        \n",
    "    \n",
    "except:\n",
    "    print(\"Oops!  That was not a valid number or a Null Value\")\n",
    "        \n",
    "        \n",
    "finally:\n",
    "    print(\"Biggest number in the list is: \",max(list))\n",
    "\n",
    "        \n",
    "\n"
   ]
  },
  {
   "cell_type": "code",
   "execution_count": null,
   "metadata": {},
   "outputs": [],
   "source": []
  },
  {
   "cell_type": "code",
   "execution_count": null,
   "metadata": {},
   "outputs": [],
   "source": []
  },
  {
   "cell_type": "code",
   "execution_count": null,
   "metadata": {},
   "outputs": [],
   "source": []
  },
  {
   "cell_type": "code",
   "execution_count": null,
   "metadata": {},
   "outputs": [],
   "source": []
  },
  {
   "cell_type": "code",
   "execution_count": null,
   "metadata": {},
   "outputs": [],
   "source": []
  },
  {
   "cell_type": "code",
   "execution_count": null,
   "metadata": {},
   "outputs": [],
   "source": []
  },
  {
   "cell_type": "code",
   "execution_count": null,
   "metadata": {},
   "outputs": [],
   "source": []
  },
  {
   "cell_type": "code",
   "execution_count": null,
   "metadata": {},
   "outputs": [],
   "source": []
  },
  {
   "cell_type": "code",
   "execution_count": null,
   "metadata": {},
   "outputs": [],
   "source": []
  },
  {
   "cell_type": "code",
   "execution_count": null,
   "metadata": {},
   "outputs": [],
   "source": []
  }
 ],
 "metadata": {
  "kernelspec": {
   "display_name": "Python 3",
   "language": "python",
   "name": "python3"
  },
  "language_info": {
   "codemirror_mode": {
    "name": "ipython",
    "version": 3
   },
   "file_extension": ".py",
   "mimetype": "text/x-python",
   "name": "python",
   "nbconvert_exporter": "python",
   "pygments_lexer": "ipython3",
   "version": "3.8.5"
  }
 },
 "nbformat": 4,
 "nbformat_minor": 4
}
